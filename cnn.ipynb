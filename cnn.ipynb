{
 "cells": [
  {
   "cell_type": "code",
   "execution_count": 1,
   "id": "831cb8df",
   "metadata": {},
   "outputs": [],
   "source": [
    "import pandas as pd\n",
    "import tensorflow as tf\n",
    "import numpy as np\n",
    "from keras.preprocessing.image import ImageDataGenerator"
   ]
  },
  {
   "cell_type": "code",
   "execution_count": 2,
   "id": "fb331d11",
   "metadata": {},
   "outputs": [
    {
     "name": "stdout",
     "output_type": "stream",
     "text": [
      "Found 8000 images belonging to 2 classes.\n"
     ]
    }
   ],
   "source": [
    "train_datagen=ImageDataGenerator(\n",
    "rescale=1./255,\n",
    "shear_range=0.2,\n",
    "zoom_range=0.2,\n",
    "horizontal_flip=True)\n",
    "\n",
    "training_set=train_datagen.flow_from_directory(\n",
    "'D:\\\\dataset\\\\training_set',\n",
    "target_size=(64,64),\n",
    "batch_size=32,\n",
    "class_mode='binary')"
   ]
  },
  {
   "cell_type": "code",
   "execution_count": 3,
   "id": "f8dfa0da",
   "metadata": {},
   "outputs": [
    {
     "name": "stdout",
     "output_type": "stream",
     "text": [
      "Found 2000 images belonging to 2 classes.\n"
     ]
    }
   ],
   "source": [
    "test_datagen=ImageDataGenerator(rescale=1./255)\n",
    "test_set=test_datagen.flow_from_directory(\n",
    "'D:\\\\dataset\\\\test_set',\n",
    "target_size=(64,64),\n",
    "batch_size=32,\n",
    "class_mode='binary')"
   ]
  },
  {
   "cell_type": "code",
   "execution_count": 4,
   "id": "17a90465",
   "metadata": {},
   "outputs": [],
   "source": [
    "cnn=tf.keras.models.Sequential()\n"
   ]
  },
  {
   "cell_type": "code",
   "execution_count": 5,
   "id": "0a533676",
   "metadata": {},
   "outputs": [],
   "source": [
    "cnn.add(tf.keras.layers.Conv2D(filters=32,kernel_size=3,activation='relu',input_shape=[64,64,3]))"
   ]
  },
  {
   "cell_type": "code",
   "execution_count": 6,
   "id": "06762e09",
   "metadata": {},
   "outputs": [],
   "source": [
    "cnn.add(tf.keras.layers.MaxPool2D(pool_size=2,strides=2))"
   ]
  },
  {
   "cell_type": "code",
   "execution_count": 7,
   "id": "1af00120",
   "metadata": {},
   "outputs": [],
   "source": [
    "cnn.add(tf.keras.layers.Conv2D(filters=32,kernel_size=3,activation='relu'))\n",
    "cnn.add(tf.keras.layers.MaxPool2D(pool_size=2,strides=2))"
   ]
  },
  {
   "cell_type": "code",
   "execution_count": 8,
   "id": "f24687f1",
   "metadata": {},
   "outputs": [],
   "source": [
    "cnn.add(tf.keras.layers.Flatten())"
   ]
  },
  {
   "cell_type": "code",
   "execution_count": 9,
   "id": "922ba39c",
   "metadata": {},
   "outputs": [],
   "source": [
    "cnn.add(tf.keras.layers.Dense(units=128,activation='relu'))"
   ]
  },
  {
   "cell_type": "code",
   "execution_count": 10,
   "id": "dea5235d",
   "metadata": {},
   "outputs": [],
   "source": [
    "cnn.add(tf.keras.layers.Dense(units=1,activation='sigmoid'))"
   ]
  },
  {
   "cell_type": "code",
   "execution_count": 11,
   "id": "a752853e",
   "metadata": {},
   "outputs": [],
   "source": [
    "cnn.compile(optimizer='adam',loss='binary_crossentropy',metrics=['accuracy'])"
   ]
  },
  {
   "cell_type": "code",
   "execution_count": 12,
   "id": "f26bd27a",
   "metadata": {},
   "outputs": [
    {
     "name": "stdout",
     "output_type": "stream",
     "text": [
      "Epoch 1/25\n",
      "250/250 [==============================] - 156s 616ms/step - loss: 0.6725 - accuracy: 0.5859 - val_loss: 0.6069 - val_accuracy: 0.6700\n",
      "Epoch 2/25\n",
      "250/250 [==============================] - 50s 202ms/step - loss: 0.6097 - accuracy: 0.6645 - val_loss: 0.5555 - val_accuracy: 0.7175\n",
      "Epoch 3/25\n",
      "250/250 [==============================] - 53s 210ms/step - loss: 0.5632 - accuracy: 0.7110 - val_loss: 0.5411 - val_accuracy: 0.7190\n",
      "Epoch 4/25\n",
      "250/250 [==============================] - 50s 200ms/step - loss: 0.5321 - accuracy: 0.7293 - val_loss: 0.5683 - val_accuracy: 0.7235\n",
      "Epoch 5/25\n",
      "250/250 [==============================] - 38s 151ms/step - loss: 0.5004 - accuracy: 0.7496 - val_loss: 0.5580 - val_accuracy: 0.7150\n",
      "Epoch 6/25\n",
      "250/250 [==============================] - 33s 134ms/step - loss: 0.4885 - accuracy: 0.7594 - val_loss: 0.4825 - val_accuracy: 0.7620\n",
      "Epoch 7/25\n",
      "250/250 [==============================] - 33s 134ms/step - loss: 0.4723 - accuracy: 0.7731 - val_loss: 0.4697 - val_accuracy: 0.7805\n",
      "Epoch 8/25\n",
      "250/250 [==============================] - 33s 133ms/step - loss: 0.4459 - accuracy: 0.7832 - val_loss: 0.4461 - val_accuracy: 0.7935\n",
      "Epoch 9/25\n",
      "250/250 [==============================] - 34s 134ms/step - loss: 0.4334 - accuracy: 0.7945 - val_loss: 0.4826 - val_accuracy: 0.7815\n",
      "Epoch 10/25\n",
      "250/250 [==============================] - 33s 133ms/step - loss: 0.4154 - accuracy: 0.8109 - val_loss: 0.4842 - val_accuracy: 0.7835\n",
      "Epoch 11/25\n",
      "250/250 [==============================] - 33s 133ms/step - loss: 0.4082 - accuracy: 0.8135 - val_loss: 0.4810 - val_accuracy: 0.7880\n",
      "Epoch 12/25\n",
      "250/250 [==============================] - 36s 145ms/step - loss: 0.3858 - accuracy: 0.8230 - val_loss: 0.4743 - val_accuracy: 0.7980\n",
      "Epoch 13/25\n",
      "250/250 [==============================] - 34s 137ms/step - loss: 0.3730 - accuracy: 0.8314 - val_loss: 0.4515 - val_accuracy: 0.7935\n",
      "Epoch 14/25\n",
      "250/250 [==============================] - 34s 137ms/step - loss: 0.3590 - accuracy: 0.8410 - val_loss: 0.4618 - val_accuracy: 0.7980\n",
      "Epoch 15/25\n",
      "250/250 [==============================] - 33s 134ms/step - loss: 0.3520 - accuracy: 0.8410 - val_loss: 0.4744 - val_accuracy: 0.7885\n",
      "Epoch 16/25\n",
      "250/250 [==============================] - 34s 134ms/step - loss: 0.3322 - accuracy: 0.8554 - val_loss: 0.4790 - val_accuracy: 0.8025\n",
      "Epoch 17/25\n",
      "250/250 [==============================] - 33s 133ms/step - loss: 0.3204 - accuracy: 0.8565 - val_loss: 0.4660 - val_accuracy: 0.8085\n",
      "Epoch 18/25\n",
      "250/250 [==============================] - 33s 132ms/step - loss: 0.3056 - accuracy: 0.8679 - val_loss: 0.4673 - val_accuracy: 0.7975\n",
      "Epoch 19/25\n",
      "250/250 [==============================] - 33s 134ms/step - loss: 0.2925 - accuracy: 0.8759 - val_loss: 0.5058 - val_accuracy: 0.8050\n",
      "Epoch 20/25\n",
      "250/250 [==============================] - 33s 134ms/step - loss: 0.2840 - accuracy: 0.8795 - val_loss: 0.4587 - val_accuracy: 0.8205\n",
      "Epoch 21/25\n",
      "250/250 [==============================] - 33s 133ms/step - loss: 0.2647 - accuracy: 0.8913 - val_loss: 0.4989 - val_accuracy: 0.7990\n",
      "Epoch 22/25\n",
      "250/250 [==============================] - 33s 133ms/step - loss: 0.2498 - accuracy: 0.8910 - val_loss: 0.5796 - val_accuracy: 0.7875\n",
      "Epoch 23/25\n",
      "250/250 [==============================] - 33s 133ms/step - loss: 0.2382 - accuracy: 0.9020 - val_loss: 0.5074 - val_accuracy: 0.7995\n",
      "Epoch 24/25\n",
      "250/250 [==============================] - 34s 135ms/step - loss: 0.2316 - accuracy: 0.8996 - val_loss: 0.5578 - val_accuracy: 0.7950\n",
      "Epoch 25/25\n",
      "250/250 [==============================] - 34s 134ms/step - loss: 0.2244 - accuracy: 0.9107 - val_loss: 0.5128 - val_accuracy: 0.8125\n"
     ]
    },
    {
     "data": {
      "text/plain": [
       "<keras.callbacks.History at 0x229994e2550>"
      ]
     },
     "execution_count": 12,
     "metadata": {},
     "output_type": "execute_result"
    }
   ],
   "source": [
    "cnn.fit(x=training_set,validation_data=test_set, epochs=25)"
   ]
  },
  {
   "cell_type": "code",
   "execution_count": 15,
   "id": "3aa142e9",
   "metadata": {},
   "outputs": [
    {
     "name": "stdout",
     "output_type": "stream",
     "text": [
      "dog\n"
     ]
    }
   ],
   "source": [
    "from keras.preprocessing import image\n",
    "test_image=image.load_img('D:\\\\dataset\\\\single_prediction\\\\images.jfif',\n",
    "                         target_size=(64,64))\n",
    "test_image=image.img_to_array(test_image)\n",
    "test_image=np.expand_dims(test_image, axis=0)\n",
    "result=cnn.predict(test_image)\n",
    "training_set.class_indices\n",
    "if result[0][0]==1:\n",
    "    prediction='dog'\n",
    "else:\n",
    "    prediction='cat'\n",
    "print(prediction)"
   ]
  },
  {
   "cell_type": "code",
   "execution_count": null,
   "id": "03a6af73",
   "metadata": {},
   "outputs": [],
   "source": []
  }
 ],
 "metadata": {
  "kernelspec": {
   "display_name": "Python 3 (ipykernel)",
   "language": "python",
   "name": "python3"
  },
  "language_info": {
   "codemirror_mode": {
    "name": "ipython",
    "version": 3
   },
   "file_extension": ".py",
   "mimetype": "text/x-python",
   "name": "python",
   "nbconvert_exporter": "python",
   "pygments_lexer": "ipython3",
   "version": "3.9.7"
  }
 },
 "nbformat": 4,
 "nbformat_minor": 5
}
